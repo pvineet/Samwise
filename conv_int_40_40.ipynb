{
 "cells": [
  {
   "cell_type": "markdown",
   "metadata": {},
   "source": [
    "## Vertical Edge filter on a 40x40 image"
   ]
  },
  {
   "cell_type": "code",
   "execution_count": 100,
   "metadata": {},
   "outputs": [],
   "source": [
    "from pynq import Overlay\n",
    "from pynq import MMIO\n",
    "from pynq import Xlnk\n",
    "import numpy as np\n",
    "import scipy\n",
    "import bitstring\n",
    "from PIL import Image\n",
    "from scipy.misc import imshow, imresize, imsave\n",
    "from scipy.ndimage.filters import convolve,correlate\n",
    "import matplotlib.pyplot as plt"
   ]
  },
  {
   "cell_type": "markdown",
   "metadata": {},
   "source": [
    "### Function to convert a RGB image to grayscale"
   ]
  },
  {
   "cell_type": "code",
   "execution_count": 101,
   "metadata": {},
   "outputs": [],
   "source": [
    "def rgb2grayscale(im):\n",
    "        \"\"\"\n",
    "            Converts RGB to Grayscale.\n",
    "            @params: Input RGB image.\n",
    "            @return: Grayscale image(1 channel)\n",
    "        \"\"\"\n",
    "        if  len(im.shape) > 2:\n",
    "            if im.shape[2] == 3: # Convert RGB image to Grayscale\n",
    "                r, g, b = im[:, :, 0], im[:, :, 1], im[:, :, 2]\n",
    "                grayscale = 0.2989 * r + 0.5870 * g + 0.1140 * b\n",
    "                return grayscale\n",
    "        else:\n",
    "            return im"
   ]
  },
  {
   "cell_type": "markdown",
   "metadata": {},
   "source": [
    "### Open Input Image\n",
    "The following piece of code carries out the following\n",
    "- opens image\n",
    "- converts it to grayscale\n",
    "- print out the shape of the image\n",
    "\n",
    "The input image is an image with horizontal and vertical lines as shown below\n",
    "![Output Image](test2.jpg)"
   ]
  },
  {
   "cell_type": "code",
   "execution_count": 102,
   "metadata": {},
   "outputs": [
    {
     "name": "stdout",
     "output_type": "stream",
     "text": [
      "(40, 40)\n"
     ]
    }
   ],
   "source": [
    "img = Image.open(\"/home/xilinx/jupyter_notebooks/test2.jpg\")\n",
    "img = np.array(img)\n",
    "in_img = rgb2grayscale(np.array(img))\n",
    "height, width = in_img.shape\n",
    "print(in_img.shape)"
   ]
  },
  {
   "cell_type": "markdown",
   "metadata": {},
   "source": [
    "### Load FPGA bitstream\n",
    "Here we load the bitstream generated from the Vivado tool as a overlay"
   ]
  },
  {
   "cell_type": "code",
   "execution_count": 103,
   "metadata": {},
   "outputs": [],
   "source": [
    "overlay = Overlay(\"/home/xilinx/Samwise/conv_int_200_200.bit\")"
   ]
  },
  {
   "cell_type": "markdown",
   "metadata": {},
   "source": [
    "### Define the Sobel filter\n",
    "Here we define the Sobel filter which detects vertical edges"
   ]
  },
  {
   "cell_type": "code",
   "execution_count": 104,
   "metadata": {},
   "outputs": [],
   "source": [
    "kernel_dim = 3\n",
    "kernel = np.array([[1,2,1],[0,0,0],[-1,-2,-1]])\n",
    "kernel = kernel.T"
   ]
  },
  {
   "cell_type": "markdown",
   "metadata": {},
   "source": [
    "### Declare/Initialize array for output image\n",
    "Here we declare an output array of size = 1600.\n",
    "This is a 1D array"
   ]
  },
  {
   "cell_type": "code",
   "execution_count": 105,
   "metadata": {},
   "outputs": [
    {
     "name": "stdout",
     "output_type": "stream",
     "text": [
      "(1444,)\n"
     ]
    }
   ],
   "source": [
    "out_img = np.zeros((height-kernel_dim//2-1)*(width-kernel_dim//2-1))\n",
    "print(out_img.shape)"
   ]
  },
  {
   "cell_type": "markdown",
   "metadata": {},
   "source": [
    "### Address and size of the input buffer"
   ]
  },
  {
   "cell_type": "code",
   "execution_count": 106,
   "metadata": {},
   "outputs": [
    {
     "name": "stdout",
     "output_type": "stream",
     "text": [
      "Input buffer for the conv accelarator is present at  0x40000000\n",
      "The input buffer size is 8192\n"
     ]
    }
   ],
   "source": [
    "in_img_addr = overlay.axi_bram_ctrl_0.mmio.base_addr\n",
    "print(\"Input buffer for the conv accelarator is present at \", hex(in_img_addr))\n",
    "print(\"The input buffer size is\",overlay.axi_bram_ctrl_0.mmio.length)"
   ]
  },
  {
   "cell_type": "markdown",
   "metadata": {},
   "source": [
    "### Address and size of the output buffer"
   ]
  },
  {
   "cell_type": "code",
   "execution_count": 107,
   "metadata": {},
   "outputs": [
    {
     "name": "stdout",
     "output_type": "stream",
     "text": [
      "Output buffer for the conv accelarator is present at  0x42000000\n",
      "The output buffer size is 8192\n"
     ]
    }
   ],
   "source": [
    "out_img_addr = overlay.axi_bram_ctrl_1.mmio.base_addr\n",
    "print(\"Output buffer for the conv accelarator is present at \", hex(out_img_addr))\n",
    "print(\"The output buffer size is\",overlay.axi_bram_ctrl_1.mmio.length)"
   ]
  },
  {
   "cell_type": "markdown",
   "metadata": {},
   "source": [
    "### Write kernel to Conv. core registers\n",
    "Since the kernel data is stored in the registers of the core we load the kernel data here.\n",
    "The kernel is stored in registers 0x40 through 0x7f"
   ]
  },
  {
   "cell_type": "code",
   "execution_count": 108,
   "metadata": {},
   "outputs": [
    {
     "name": "stdout",
     "output_type": "stream",
     "text": [
      "0x1 @ 0x40\n",
      "0x0 @ 0x44\n",
      "0xffffffff @ 0x48\n",
      "0x2 @ 0x4c\n",
      "0x0 @ 0x50\n",
      "0xfffffffe @ 0x54\n",
      "0x1 @ 0x58\n",
      "0x0 @ 0x5c\n",
      "0xffffffff @ 0x60\n"
     ]
    }
   ],
   "source": [
    "y,x = kernel.shape\n",
    "# Address for the config register of the core\n",
    "start_addr = 0x40\n",
    "for j in range(y):\n",
    "    for i in range(x):\n",
    "        addr = (start_addr+(j*4*x)+(i*4))\n",
    "        if kernel[j][i] < 0:\n",
    "            val = 0xFFFFFFFF+(kernel[j][i]+1)\n",
    "        else:\n",
    "            val = kernel[j][i]\n",
    "        print(hex(val),\"@\", hex(addr))\n",
    "        overlay.conv_int_0.write(addr, int(val))"
   ]
  },
  {
   "cell_type": "markdown",
   "metadata": {},
   "source": [
    "### Write input image to input buffer ram\n"
   ]
  },
  {
   "cell_type": "code",
   "execution_count": 109,
   "metadata": {},
   "outputs": [
    {
     "name": "stdout",
     "output_type": "stream",
     "text": [
      "Input dimensions 40 40\n"
     ]
    }
   ],
   "source": [
    "h,w = in_img.shape\n",
    "print(\"Input dimensions\",h,w)\n",
    "start_addr = 0x00\n",
    "for j in range(h):\n",
    "    for i in range(w):\n",
    "        addr = start_addr+((i*4)+((j*4*w)))\n",
    "        overlay.axi_bram_ctrl_0.mmio.write(addr, int(in_img[j][i]))"
   ]
  },
  {
   "cell_type": "markdown",
   "metadata": {},
   "source": [
    "### Configure the convolution core\n",
    "The following steps are carried out in the code block below\n",
    "- Configure the width register\n",
    "- Configure the height register\n",
    "- Write 5 in the 0x00 register to start conv operation\n",
    "- Poll register 0x00 to check if the operation is completed"
   ]
  },
  {
   "cell_type": "code",
   "execution_count": 110,
   "metadata": {},
   "outputs": [],
   "source": [
    "# Config width and height\n",
    "overlay.conv_int_0.write(0x80,width)\n",
    "overlay.conv_int_0.write(0x88,height)\n",
    "# Write 5 to start operation\n",
    "overlay.conv_int_0.write(0x00, 5)\n",
    "# wait for conv operation to complete\n",
    "while True:\n",
    "    if overlay.conv_int_0.read(0x00) == 6:\n",
    "        break"
   ]
  },
  {
   "cell_type": "markdown",
   "metadata": {},
   "source": [
    "### Read Output buffer\n",
    "Read the output buffer data into numpy array - out_img. The 2's complement neagtive numbers are converted accordingly"
   ]
  },
  {
   "cell_type": "code",
   "execution_count": 111,
   "metadata": {},
   "outputs": [],
   "source": [
    "# read out the processed data        \n",
    "start_addr = 0x00\n",
    "for i in range(out_img.shape[0]):\n",
    "    addr = start_addr+(i*4)\n",
    "    rd_data = overlay.axi_bram_ctrl_1.mmio.read(addr)\n",
    "    if rd_data>>31 == 1:\n",
    "        res = -1*(0xFFFFFFFF-(rd_data-1))\n",
    "    else:\n",
    "        res = rd_data\n",
    "    out_img[i] = res"
   ]
  },
  {
   "cell_type": "markdown",
   "metadata": {},
   "source": [
    "### Reshape the 1D array to a 2D array"
   ]
  },
  {
   "cell_type": "code",
   "execution_count": 112,
   "metadata": {},
   "outputs": [],
   "source": [
    "out_img = np.reshape(out_img,(h-kernel_dim//2-1,w-kernel_dim//2-1))"
   ]
  },
  {
   "cell_type": "markdown",
   "metadata": {},
   "source": [
    "### Save the output image"
   ]
  },
  {
   "cell_type": "code",
   "execution_count": 113,
   "metadata": {},
   "outputs": [],
   "source": [
    "_out_img = Image.fromarray(out_img)\n",
    "imsave(\"test2_out.jpg\", _out_img)"
   ]
  },
  {
   "cell_type": "markdown",
   "metadata": {},
   "source": [
    "## Output Image\n",
    "The output image from output buffer is below\n",
    "![Output Image](test2_out.jpg)\n",
    "Here we see that the horizontal lines are not part of the image"
   ]
  },
  {
   "cell_type": "code",
   "execution_count": null,
   "metadata": {},
   "outputs": [],
   "source": []
  }
 ],
 "metadata": {
  "kernelspec": {
   "display_name": "Python 3",
   "language": "python",
   "name": "python3"
  },
  "language_info": {
   "codemirror_mode": {
    "name": "ipython",
    "version": 3
   },
   "file_extension": ".py",
   "mimetype": "text/x-python",
   "name": "python",
   "nbconvert_exporter": "python",
   "pygments_lexer": "ipython3",
   "version": "3.6.4"
  }
 },
 "nbformat": 4,
 "nbformat_minor": 2
}
